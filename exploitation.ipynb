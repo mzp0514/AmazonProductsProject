{
  "cells": [
    {
      "cell_type": "code",
      "execution_count": 1,
      "metadata": {
        "colab": {
          "base_uri": "https://localhost:8080/"
        },
        "id": "Ll13abb44Gx5",
        "outputId": "7b76ed18-6ee5-4431-fa00-72bc5f539a3a"
      },
      "outputs": [
        {
          "output_type": "stream",
          "name": "stdout",
          "text": [
            "Mounted at /content/drive\n"
          ]
        }
      ],
      "source": [
        "from google.colab import drive\n",
        "drive.mount('/content/drive')"
      ]
    },
    {
      "cell_type": "code",
      "execution_count": 2,
      "metadata": {
        "colab": {
          "base_uri": "https://localhost:8080/"
        },
        "id": "Ws2vVYXTFgnK",
        "outputId": "da7c3e0d-4c23-4bc5-cf26-d7baccd7d53f"
      },
      "outputs": [
        {
          "output_type": "stream",
          "name": "stdout",
          "text": [
            "Looking in indexes: https://pypi.org/simple, https://us-python.pkg.dev/colab-wheels/public/simple/\n",
            "Looking in links: https://data.pyg.org/whl/torch-1.11.0+cu113.html\n",
            "Collecting torch-scatter\n",
            "  Downloading https://data.pyg.org/whl/torch-1.11.0%2Bcu113/torch_scatter-2.0.9-cp37-cp37m-linux_x86_64.whl (7.9 MB)\n",
            "\u001b[K     |████████████████████████████████| 7.9 MB 43.4 MB/s \n",
            "\u001b[?25hCollecting torch-sparse\n",
            "  Downloading https://data.pyg.org/whl/torch-1.11.0%2Bcu113/torch_sparse-0.6.13-cp37-cp37m-linux_x86_64.whl (3.5 MB)\n",
            "\u001b[K     |████████████████████████████████| 3.5 MB 19.3 MB/s \n",
            "\u001b[?25hCollecting torch-cluster\n",
            "  Downloading https://data.pyg.org/whl/torch-1.11.0%2Bcu113/torch_cluster-1.6.0-cp37-cp37m-linux_x86_64.whl (2.5 MB)\n",
            "\u001b[K     |████████████████████████████████| 2.5 MB 43.6 MB/s \n",
            "\u001b[?25hCollecting torch-spline-conv\n",
            "  Downloading https://data.pyg.org/whl/torch-1.11.0%2Bcu113/torch_spline_conv-1.2.1-cp37-cp37m-linux_x86_64.whl (750 kB)\n",
            "\u001b[K     |████████████████████████████████| 750 kB 28.8 MB/s \n",
            "\u001b[?25hCollecting torch-geometric\n",
            "  Downloading torch_geometric-2.0.4.tar.gz (407 kB)\n",
            "\u001b[K     |████████████████████████████████| 407 kB 34.9 MB/s \n",
            "\u001b[?25hRequirement already satisfied: scipy in /usr/local/lib/python3.7/dist-packages (from torch-sparse) (1.4.1)\n",
            "Requirement already satisfied: tqdm in /usr/local/lib/python3.7/dist-packages (from torch-geometric) (4.64.0)\n",
            "Requirement already satisfied: numpy in /usr/local/lib/python3.7/dist-packages (from torch-geometric) (1.21.6)\n",
            "Requirement already satisfied: pandas in /usr/local/lib/python3.7/dist-packages (from torch-geometric) (1.3.5)\n",
            "Requirement already satisfied: jinja2 in /usr/local/lib/python3.7/dist-packages (from torch-geometric) (2.11.3)\n",
            "Requirement already satisfied: requests in /usr/local/lib/python3.7/dist-packages (from torch-geometric) (2.23.0)\n",
            "Requirement already satisfied: pyparsing in /usr/local/lib/python3.7/dist-packages (from torch-geometric) (3.0.9)\n",
            "Requirement already satisfied: scikit-learn in /usr/local/lib/python3.7/dist-packages (from torch-geometric) (1.0.2)\n",
            "Requirement already satisfied: MarkupSafe>=0.23 in /usr/local/lib/python3.7/dist-packages (from jinja2->torch-geometric) (2.0.1)\n",
            "Requirement already satisfied: python-dateutil>=2.7.3 in /usr/local/lib/python3.7/dist-packages (from pandas->torch-geometric) (2.8.2)\n",
            "Requirement already satisfied: pytz>=2017.3 in /usr/local/lib/python3.7/dist-packages (from pandas->torch-geometric) (2022.1)\n",
            "Requirement already satisfied: six>=1.5 in /usr/local/lib/python3.7/dist-packages (from python-dateutil>=2.7.3->pandas->torch-geometric) (1.15.0)\n",
            "Requirement already satisfied: urllib3!=1.25.0,!=1.25.1,<1.26,>=1.21.1 in /usr/local/lib/python3.7/dist-packages (from requests->torch-geometric) (1.24.3)\n",
            "Requirement already satisfied: idna<3,>=2.5 in /usr/local/lib/python3.7/dist-packages (from requests->torch-geometric) (2.10)\n",
            "Requirement already satisfied: certifi>=2017.4.17 in /usr/local/lib/python3.7/dist-packages (from requests->torch-geometric) (2022.5.18.1)\n",
            "Requirement already satisfied: chardet<4,>=3.0.2 in /usr/local/lib/python3.7/dist-packages (from requests->torch-geometric) (3.0.4)\n",
            "Requirement already satisfied: joblib>=0.11 in /usr/local/lib/python3.7/dist-packages (from scikit-learn->torch-geometric) (1.1.0)\n",
            "Requirement already satisfied: threadpoolctl>=2.0.0 in /usr/local/lib/python3.7/dist-packages (from scikit-learn->torch-geometric) (3.1.0)\n",
            "Building wheels for collected packages: torch-geometric\n",
            "  Building wheel for torch-geometric (setup.py) ... \u001b[?25l\u001b[?25hdone\n",
            "  Created wheel for torch-geometric: filename=torch_geometric-2.0.4-py3-none-any.whl size=616603 sha256=327e7ff749e40c58253f2d317da20b08a9bf1b5efdb8957d82bc43f122b709ea\n",
            "  Stored in directory: /root/.cache/pip/wheels/18/a6/a4/ca18c3051fcead866fe7b85700ee2240d883562a1bc70ce421\n",
            "Successfully built torch-geometric\n",
            "Installing collected packages: torch-spline-conv, torch-sparse, torch-scatter, torch-geometric, torch-cluster\n",
            "Successfully installed torch-cluster-1.6.0 torch-geometric-2.0.4 torch-scatter-2.0.9 torch-sparse-0.6.13 torch-spline-conv-1.2.1\n"
          ]
        }
      ],
      "source": [
        "!pip install torch-scatter torch-sparse torch-cluster torch-spline-conv torch-geometric -f https://data.pyg.org/whl/torch-1.11.0+cu113.html"
      ]
    },
    {
      "cell_type": "code",
      "execution_count": 3,
      "metadata": {
        "id": "ghuZ7ABPcG6S"
      },
      "outputs": [],
      "source": [
        "import numpy as np\n",
        "import torch\n",
        "import torch_geometric\n",
        "import torch.nn.functional as F\n",
        "from torch_geometric.utils import subgraph\n",
        "from torch_geometric.datasets import AmazonProducts\n",
        "import torch_geometric.transforms as T\n",
        "from torch_geometric.nn import ClusterGCNConv, GATConv, SAGEConv, TransformerConv, LayerNorm,GMMConv\n",
        "from torch_geometric.loader import GraphSAINTRandomWalkSampler\n",
        "import networkx as nx\n",
        "from sklearn.metrics import accuracy_score, recall_score, f1_score"
      ]
    },
    {
      "cell_type": "markdown",
      "metadata": {
        "id": "RfzOoi7dd_7L"
      },
      "source": [
        "## Load the dataset"
      ]
    },
    {
      "cell_type": "code",
      "execution_count": 4,
      "metadata": {
        "id": "47SoQUOGcN5N"
      },
      "outputs": [],
      "source": [
        "# dataset = 'Computers'\n",
        "root='./drive/My Drive/dataset'\n",
        "dataset = AmazonProducts(root, transform=T.TargetIndegree())\n"
      ]
    },
    {
      "cell_type": "code",
      "execution_count": 5,
      "metadata": {
        "id": "H0iZkYju_UnK"
      },
      "outputs": [],
      "source": [
        "data = dataset[0]"
      ]
    },
    {
      "cell_type": "markdown",
      "source": [
        "## Data Exploration"
      ],
      "metadata": {
        "id": "oLo2mKB7zbJN"
      }
    },
    {
      "cell_type": "markdown",
      "metadata": {
        "id": "35qXClA-b_AC"
      },
      "source": [
        "Given this dataset, a question that might come to mind is whether the frequency of two products being bought together is related with their category.\n",
        "In the follow in Histogram we will figure out whether two items that are more frequetly bought together, are also more likely to belong in the same class."
      ]
    },
    {
      "cell_type": "code",
      "execution_count": null,
      "metadata": {
        "id": "Z_w1FiyvVFtq"
      },
      "outputs": [],
      "source": [
        "import math\n",
        "import numpy as np\n",
        "\n",
        "def same_class(a, b):\n",
        "  return torch.logical_and(a, b).sum() > 0\n",
        "\n",
        "productsCount = np.zeros(10)\n",
        "sameClassCount = np.zeros(10)\n",
        "# Iterate through the first 264339468 edges\n",
        "for edge_index in range(26433946):\n",
        "  freqIndex = math.floor(data.edge_attr[edge_index]*10)\n",
        "  if (freqIndex == 10):\n",
        "    freqIndex = 9\n",
        "\n",
        "  productsCount[freqIndex] +=1\n",
        "  # If they belong in the same class \n",
        "  if same_class(data.y[data.edge_index[0][edge_index]], data.y[data.edge_index[1][edge_index]]):\n",
        "    sameClassCount[freqIndex] +=1\n"
      ]
    },
    {
      "cell_type": "code",
      "execution_count": null,
      "metadata": {
        "colab": {
          "base_uri": "https://localhost:8080/"
        },
        "id": "lteoVkiQdDtl",
        "outputId": "81253929-582c-4952-9ec4-3e1597607b38"
      },
      "outputs": [
        {
          "name": "stdout",
          "output_type": "stream",
          "text": [
            "[0.12605997 0.12069533 0.11200213 0.13055347 0.12563538 0.12590081\n",
            " 0.09450767 0.03587444 0.06547619 0.03914141]\n",
            "\n",
            "[2.195344e+06 3.191010e+05 8.255200e+04 2.527700e+04 1.180400e+04\n",
            " 4.718000e+03 2.021000e+03 1.115000e+03 6.720000e+02 7.920000e+02]\n"
          ]
        }
      ],
      "source": [
        "# Divide same class products with products count of each frequency index\n",
        "np.seterr(divide='ignore', invalid='ignore')\n",
        "y = np.nan_to_num(sameClassCount/productsCount)\n"
      ]
    },
    {
      "cell_type": "markdown",
      "metadata": {
        "id": "55_XYKNCjyQ9"
      },
      "source": [
        "We end up with the following graph, where the x axis is the frequency of two products being bought together (divided into 10 bars) and the y axis is the percentage of items that belong in the same category.\n"
      ]
    },
    {
      "cell_type": "code",
      "execution_count": null,
      "metadata": {
        "colab": {
          "base_uri": "https://localhost:8080/",
          "height": 350
        },
        "id": "YIojlrx7hHUy",
        "outputId": "028daa1a-7719-4969-94ae-f518af09643c"
      },
      "outputs": [
        {
          "data": {
            "image/png": "[encoded data removed]",
            "text/plain": [
              "<Figure size 432x288 with 1 Axes>"
            ]
          },
          "metadata": {},
          "output_type": "display_data"
        }
      ],
      "source": [
        "import matplotlib.pyplot as plt\n",
        "fig = plt.figure()\n",
        "ax = fig.add_axes([0,0,1,1])\n",
        "ax.set_xlabel('Frequency of two products being bought together')\n",
        "ax.set_ylabel('Percentage of same category products')\n",
        "langs = ['<0.1', '<0.2', '<0.3', '<0.4', '<0.5', '<0.6', '<0.7', '<0.8', '<0.9', '<=1']\n",
        "ax.bar(langs, y)\n",
        "plt.show()"
      ]
    },
    {
      "cell_type": "markdown",
      "metadata": {
        "id": "OugtzxBbkcdc"
      },
      "source": [
        "As we see, the items that are frequently bought together, are less likely to belong in the same category. Therefore the edges attribute is not sufficient in order to classify the products, and as a result we certainly need to take advantage of the nodes features."
      ]
    },
    {
      "cell_type": "markdown",
      "source": [
        "## Baseline"
      ],
      "metadata": {
        "id": "YPgm4z6Mz3VY"
      }
    },
    {
      "cell_type": "markdown",
      "source": [
        "According to the visualization results, products of the same category are close to each other in the Euclidean space of the node feature. Therefore, we use KNN (K=5) as the baseline, i.e. assign one item with the category that the K nearest items vote."
      ],
      "metadata": {
        "id": "-vZJFrSb1hCo"
      }
    },
    {
      "cell_type": "code",
      "execution_count": null,
      "metadata": {
        "id": "xdRlskrf1yFe"
      },
      "outputs": [],
      "source": [
        "from sklearn.neighbors import KNeighborsClassifier\n",
        "clf = KNeighborsClassifier(n_neighbors=5).fit(data.x[data.train_mask], \n",
        "              data.y[data.train_mask])\n",
        "\n",
        "predict_y = clf.predict(data.x[data.test_mask])"
      ]
    },
    {
      "cell_type": "code",
      "execution_count": null,
      "metadata": {
        "colab": {
          "base_uri": "https://localhost:8080/"
        },
        "id": "Tb_v47NmVjHO",
        "outputId": "ff377943-a170-4426-bbb0-6a86f4e93b00"
      },
      "outputs": [
        {
          "data": {
            "text/plain": [
              "0.3131168170730656"
            ]
          },
          "execution_count": 16,
          "metadata": {},
          "output_type": "execute_result"
        }
      ],
      "source": [
        "f1 = f1_score(data.y[data.test_mask].cpu().detach().numpy(), predict_y, average='micro' )\n",
        "f1"
      ]
    },
    {
      "cell_type": "markdown",
      "source": [
        "We also tried RidgeClassifier."
      ],
      "metadata": {
        "id": "plc5LxVb1j8-"
      }
    },
    {
      "cell_type": "code",
      "execution_count": null,
      "metadata": {
        "colab": {
          "base_uri": "https://localhost:8080/"
        },
        "id": "ut5vxsYuV2Qs",
        "outputId": "ba86fca3-c9ba-4aae-99f4-365c9fc5628a"
      },
      "outputs": [
        {
          "data": {
            "text/plain": [
              "0.08338830170734325"
            ]
          },
          "execution_count": 21,
          "metadata": {},
          "output_type": "execute_result"
        }
      ],
      "source": [
        "from sklearn.linear_model import RidgeClassifierCV\n",
        "clf = RidgeClassifierCV().fit(data.x[data.train_mask],data.y[data.train_mask])\n",
        "predict_y = clf.predict(data.x[data.test_mask])\n",
        "f1 = f1_score(data.y[data.test_mask].cpu().detach().numpy(), predict_y, average='micro' )\n",
        "f1"
      ]
    },
    {
      "cell_type": "markdown",
      "source": [
        "## Graph Neural Network\n",
        "### Graph Sampling\n",
        "\n",
        "The Amazon dataset is too large to do a full-batch training of GNN because GPU memory is limited. Also, in standard SGD, if we sample nodes independently in a mini-batch, sampled nodes tend to be isolated from each other and GNN cannot access to neighboring nodes to aggregate their node features. Therefore, we consider using graph samplers to enable message-passing over small subgraphs in each mini-batch and only the subgraphs need to be loaded on a GPU at a time. \n",
        "\n",
        "Existent methods include neighbor sampling [Hamilton et al. NeurIPS 2017] (https://arxiv.org/abs/1706.02216), Cluster-GCN [Chiang et al. KDD 2019] (https://arxiv.org/abs/1905.07953) and GraphSAINT sampler (https://arxiv.org/abs/1907.04931), because in  the GraphSAINT paper the GraphSAINT sampler outperforms the other two. Specifically, we use the random walk based sampler with walk length 4, batch size 1500, num_steps (The number of iterations per epoch) 5, sample coverage (How many samples per node should be used to compute normalization statistics) 100. "
      ],
      "metadata": {
        "id": "zx1t501z0d1X"
      }
    },
    {
      "cell_type": "code",
      "execution_count": 8,
      "metadata": {
        "id": "yW60YeVL0OwK"
      },
      "outputs": [],
      "source": [
        "\n",
        "tr_loader = GraphSAINTRandomWalkSampler(data, batch_size=1500, walk_length=4,\n",
        "                                     num_steps=5, sample_coverage=100,\n",
        "                                     save_dir=dataset.processed_dir,\n",
        "                                     num_workers=4)\n",
        "test_loader = GraphSAINTRandomWalkSampler(data, batch_size=1500, walk_length=4,\n",
        "                                     num_steps=5, sample_coverage=100,\n",
        "                                     save_dir=dataset.processed_dir,\n",
        "                                     num_workers=4)"
      ]
    },
    {
      "cell_type": "markdown",
      "source": [
        "### Model definition, training and testing"
      ],
      "metadata": {
        "id": "_Bj-8v4c0tZ_"
      }
    },
    {
      "cell_type": "markdown",
      "source": [
        "The architecture we first consider is 3 ClusterGCNConv layers, which is the ClusterGCN graph convolutional operator from [Chiang et al. KDD 2019] ($\\mathbf{X}^{\\prime} = \\left( \\mathbf{\\hat{A}} + \\lambda \\cdot\n",
        "\\textrm{diag}(\\mathbf{\\hat{A}}) \\right) \\mathbf{X} \\mathbf{W}_1 +\n",
        "\\mathbf{X} \\mathbf{W}_2$\n",
        "\n",
        "where $\\mathbf{\\hat{A}} = {(\\mathbf{D} + \\mathbf{I})}^{-1}(\\mathbf{A}+\\mathbf{I})$), with elu (Exponential Linear Unit) as the activation function.\n",
        "\n",
        "Considering the previous knowledge that the category of one item may not have much to do with its neighbors in the graph. Instead, the node feature itself may contain more information about its category. Therefore,  we add residual connection between the convolution layers."
      ],
      "metadata": {
        "id": "uXqV-Xp81PUH"
      }
    },
    {
      "cell_type": "code",
      "execution_count": null,
      "metadata": {
        "id": "-A61qM8UekR1"
      },
      "outputs": [],
      "source": [
        "import torch_geometric.nn\n",
        "\n",
        "\n",
        "class Net(torch.nn.Module):\n",
        "    def __init__(self, hidden_channels):\n",
        "        super().__init__()\n",
        "        in_channels = dataset.num_node_features\n",
        "        out_channels = dataset.num_classes\n",
        "\n",
        "        self.conv1 = ClusterGCNConv(in_channels, hidden_channels)\n",
        "        self.lin1 = torch.nn.Linear(in_channels, hidden_channels)\n",
        "        self.conv2 = ClusterGCNConv(hidden_channels, hidden_channels)\n",
        "        self.lin2 = torch.nn.Linear(hidden_channels, hidden_channels)\n",
        "        self.conv3 = ClusterGCNConv(hidden_channels, hidden_channels)\n",
        "        self.lin3 = torch.nn.Linear(hidden_channels, hidden_channels)\n",
        "        self.conv4 = ClusterGCNConv(hidden_channels, out_channels)\n",
        "        self.lin4 = torch.nn.Linear(hidden_channels, out_channels)\n",
        "\n",
        "       \n",
        "    def forward(self, x, edge_index, edge_attr):\n",
        "        x = F.elu(self.conv1(x, edge_index) + self.lin1(x))\n",
        "        x = F.elu(self.conv2(x, edge_index) + self.lin2(x))\n",
        "        x = F.elu(self.conv3(x, edge_index) + self.lin3(x))\n",
        "        x = self.conv4(x, edge_index) + self.lin4(x)\n",
        "        return x\n",
        "\n",
        "\n",
        "device = torch.device('cuda' if torch.cuda.is_available() else 'cpu')\n",
        "model = Net(hidden_channels=512).to(device)\n",
        "optimizer = torch.optim.Adam(model.parameters(), lr=0.001)\n",
        "\n",
        "\n",
        "def train():\n",
        "    model.train()\n",
        "    total_loss = total_examples = 0\n",
        "    for batch in tr_loader:\n",
        "        batch = batch.to(device)\n",
        "        optimizer.zero_grad()\n",
        "        out = model(batch.x, batch.edge_index, batch.edge_attr)\n",
        "        criterion_weighted = torch.nn.BCEWithLogitsLoss(weight=batch.node_norm[batch.train_mask].unsqueeze(1), reduction=\"sum\")\n",
        "        loss = criterion_weighted(out[batch.train_mask], batch.y[batch.train_mask, :num_classes].float())\n",
        "        \n",
        "        loss.backward()\n",
        "        optimizer.step()\n",
        "        total_loss += loss.item() * data.num_nodes\n",
        "        total_examples += data.num_nodes\n",
        "    return total_loss / total_examples\n",
        "\n",
        "\n",
        "@torch.no_grad()\n",
        "def test():\n",
        "    model.eval()\n",
        "    test_f1s = []\n",
        "    val_f1s = []\n",
        "    for batch in test_loader:\n",
        "        batch = batch.to(device)\n",
        "        out = model(batch.x, batch.edge_index, batch.edge_attr)\n",
        "        \n",
        "        pred = out.sigmoid() > 0.5\n",
        "        test_f1 = f1_score(batch.y[batch.test_mask, :num_classes].cpu().detach().numpy(), \n",
        "                      pred[batch.test_mask].cpu().detach().numpy(), average='micro' ) \n",
        "        val_f1 = f1_score(batch.y[batch.val_mask, :num_classes].cpu().detach().numpy(), \n",
        "                      pred[batch.val_mask].cpu().detach().numpy(), average='micro' ) \n",
        "        \n",
        "        test_f1s.append(test_f1)\n",
        "        val_f1s.append(val_f1)\n",
        "    \n",
        "    return np.mean(val_f1s), np.mean(test_f1s)\n",
        "\n",
        "\n",
        "best_val_score, test_score = 0.0, 0.0\n",
        "best_test_score = 0.0\n",
        "for epoch in range(1, 501):\n",
        "    loss = train()\n",
        "    val_f1, te_f1 = test()\n",
        "    if best_val_score < val_f1:\n",
        "      best_val_score = val_f1\n",
        "      test_score = te_f1\n",
        "    if best_test_score < te_f1:\n",
        "      best_test_score = te_f1\n",
        "    print(f'Epoch: {epoch:02d}, Loss: {loss:.4f}, Val:{val_f1:.4f}, Test: {te_f1:.4f}')\n",
        "print(best_val_score, test_score)\n",
        "print(best_test_score)"
      ]
    }
  ],
  "metadata": {
    "colab": {
      "collapsed_sections": [],
      "machine_shape": "hm",
      "name": "GCN_Amazon_Products_Classification.ipynb",
      "provenance": []
    },
    "kernelspec": {
      "display_name": "Python 3",
      "name": "python3"
    },
    "accelerator": "GPU"
  },
  "nbformat": 4,
  "nbformat_minor": 0
}